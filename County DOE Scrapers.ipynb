{
 "cells": [
  {
   "cell_type": "code",
   "execution_count": 90,
   "metadata": {},
   "outputs": [],
   "source": [
    "import requests\n",
    "import pprint\n",
    "import json\n",
    "import wikipedia\n",
    "import pandas\n",
    "import ipywidgets as widgets\n",
    "from bs4 import BeautifulSoup\n",
    "pp = pprint.PrettyPrinter(indent = 4)\n",
    "counties = ['ALA','BAK', 'BAY', 'BRA', 'BRE', 'BRO', 'CAL', 'CHA', 'CIT', 'CLA', \n",
    "            'CLL', 'CLM', 'DAD', 'DES', 'DIX', 'DUV', 'ESC', 'FLA', 'FRA', 'GAD',\n",
    "           'GIL', 'GLA', 'GUL', 'HAM', 'HAR', 'HEN', 'HER', 'HIG', 'HIL', 'HOL',\n",
    "           'IND', 'JAC', 'JEF', 'LAF', 'LAK', 'LEE', 'LEO', 'LEV', 'LIB', 'MAD',\n",
    "           'MAN', 'MRN', 'MRT', 'MON', 'NAS', 'OKA', 'OKE', 'ORA', 'OSC', 'PAL', 'PAS',\n",
    "           'PIN', 'POL', 'PUT', 'SAN', 'SAR', 'SEM', 'STJ', 'STL', 'SUM', 'SUW', 'TAY',\n",
    "           'UNI', 'VOL', 'WAK', 'WAL', 'WAS'] #Orange, Sarasota not included"
   ]
  },
  {
   "cell_type": "code",
   "execution_count": 129,
   "metadata": {},
   "outputs": [
    {
     "name": "stdout",
     "output_type": "stream",
     "text": [
      "County ALA completed!\n",
      "County BAK completed!\n",
      "County BAY completed!\n",
      "County BRA completed!\n",
      "County BRE completed!\n",
      "County BRO completed!\n",
      "County CAL completed!\n",
      "County CHA completed!\n",
      "County CIT completed!\n",
      "County CLA completed!\n",
      "County CLL completed!\n",
      "County CLM completed!\n",
      "County DAD completed!\n",
      "County DES completed!\n",
      "County DIX completed!\n",
      "County DUV completed!\n",
      "County ESC completed!\n",
      "County FLA completed!\n",
      "County FRA completed!\n",
      "County GAD completed!\n",
      "County GIL completed!\n",
      "County GLA completed!\n",
      "County GUL completed!\n",
      "County HAM completed!\n",
      "County HAR completed!\n",
      "County HEN completed!\n",
      "County HER completed!\n",
      "County HIG completed!\n",
      "County HIL completed!\n",
      "County HOL completed!\n",
      "County IND completed!\n",
      "County JAC completed!\n",
      "County JEF completed!\n",
      "County LAF completed!\n",
      "County LAK completed!\n",
      "County LEE completed!\n",
      "County LEO completed!\n",
      "County LEV completed!\n",
      "County LIB completed!\n",
      "County MAD completed!\n",
      "County MAN completed!\n",
      "County MRN completed!\n",
      "County MRT completed!\n",
      "County MON completed!\n",
      "County NAS completed!\n",
      "County OKA completed!\n",
      "County OKE completed!\n",
      "County OSC completed!\n",
      "County PAL completed!\n",
      "County PAS completed!\n",
      "County PIN completed!\n",
      "County POL completed!\n",
      "County PUT completed!\n",
      "County SAN completed!\n",
      "County SEM completed!\n",
      "County STJ completed!\n",
      "County STL completed!\n",
      "County SUM completed!\n",
      "County SUW completed!\n",
      "County TAY completed!\n",
      "County UNI completed!\n",
      "County VOL completed!\n",
      "County WAK completed!\n",
      "County WAL completed!\n",
      "County WAS completed!\n"
     ]
    }
   ],
   "source": [
    "#Counties other than Orange and Sarasota\n",
    "    #scraper initialization:\n",
    "for county in counties:    \n",
    "    URL = 'https://www.voterfocus.com/PrecinctFinder/precinctDirectory?county=FL-' + county\n",
    "    page = requests.get(URL)\n",
    "    soup = BeautifulSoup(page.content, 'html.parser')\n",
    "    for e in soup.find_all('br'):\n",
    "        e.replace_with('')\n",
    "    \n",
    "    #file initialization:\n",
    "    f = open('Precincts/' + county + '_precincts.txt', 'w')\n",
    "    \n",
    "    precincts = soup.find_all('section')\n",
    "    \n",
    "    \n",
    "    for precinct in precincts:\n",
    "        #print(precinct.h2.text.strip()[9: ])\n",
    "        f.write(precinct.h2.text.strip()[9: ])\n",
    "        f.write('\\t')\n",
    "        name = precinct.find(\"div\", class_ = \"Name\")\n",
    "        if(name == None):\n",
    "            continue\n",
    "        #print(name.text.strip())\n",
    "        f.write(name.text.strip())\n",
    "        f.write('\\t')\n",
    "        add = precinct.find(\"div\", class_ = \"Address\")\n",
    "        for text in add.a.stripped_strings:\n",
    "            f.write(text)\n",
    "            f.write('\\t')\n",
    "        f.write('\\n')\n",
    "    #print('County ' + county + ' completed!')"
   ]
  },
  {
   "cell_type": "code",
   "execution_count": 142,
   "metadata": {},
   "outputs": [],
   "source": [
    "#Sarasota\n",
    "URL = 'https://www.sarasotavotes.com/content.aspx?id=51'\n",
    "page = requests.get(URL)\n",
    "soup = BeautifulSoup(page.content, 'html.parser')\n",
    "\n",
    "f = open('Precincts/SAR_precincts.txt', 'w')\n",
    "\n",
    "for e in soup.find_all('br'):\n",
    "        e.replace_with('')\n",
    "\n",
    "table = soup.find_all('tr', valign  = \"top\")\n",
    "\n",
    "for cell in table:\n",
    "    for text in cell.stripped_strings:\n",
    "        if(text != 'Map'):\n",
    "            f.write(text)\n",
    "            f.write('\\t')\n",
    "    #f.write('\\n')\n",
    "    "
   ]
  },
  {
   "cell_type": "code",
   "execution_count": 25,
   "metadata": {},
   "outputs": [
    {
     "data": {
      "text/plain": [
       "<bound method DataFrame.to_markdown of     ALA  Unnamed: 1\n",
       "0   BAK         NaN\n",
       "1   BAY         NaN\n",
       "2   BRA         NaN\n",
       "3   BRE         NaN\n",
       "4   BRO         NaN\n",
       "..  ...         ...\n",
       "61  UNI         NaN\n",
       "62  VOL         NaN\n",
       "63  WAK         NaN\n",
       "64  WAL         NaN\n",
       "65  WAS         NaN\n",
       "\n",
       "[66 rows x 2 columns]>"
      ]
     },
     "execution_count": 25,
     "metadata": {},
     "output_type": "execute_result"
    }
   ],
   "source": [
    "#County Capitals:\n",
    "URL = 'https://en.wikipedia.org/wiki/List_of_county_seats_in_Florida'\n",
    "page = requests.get(URL)\n",
    "#soup = BeautifulSoup(page.content, 'html.parser')\n",
    "#f = open('countyseats.txt', 'w')\n",
    "#for county in counties:\n",
    "#    f.write(county)\n",
    "#    f.write('\\t')\n",
    "#    f.write('\\n')\n",
    "\n"
   ]
  },
  {
   "cell_type": "code",
   "execution_count": 68,
   "metadata": {},
   "outputs": [
    {
     "data": {
      "text/plain": [
       "<bound method DataFrame.to_markdown of    County       Long        Lat\n",
       "0     ALA  29.651990  82.324992\n",
       "1     BAK  30.283333  82.116667\n",
       "2     BAY  30.174444  85.664444\n",
       "3     BRA  29.947222  82.108056\n",
       "4     BRE  28.591111  80.820000\n",
       "..    ...        ...        ...\n",
       "62    UNI  30.022602  82.339643\n",
       "63    VOL  29.028889  81.300556\n",
       "64    WAK  30.176111  84.375278\n",
       "65    WAL  30.716667  86.116667\n",
       "66    WAS  30.779167  85.539167\n",
       "\n",
       "[67 rows x 3 columns]>"
      ]
     },
     "execution_count": 68,
     "metadata": {},
     "output_type": "execute_result"
    }
   ],
   "source": [
    "df = pandas.read_csv('countyseats.txt', sep = '\\t', header=(0))\n",
    "df.to_markdown\n",
    "\n"
   ]
  },
  {
   "cell_type": "code",
   "execution_count": 91,
   "metadata": {
    "scrolled": false
   },
   "outputs": [
    {
     "data": {
      "text/plain": [
       "<bound method DataFrame.to_markdown of      0                                  1                        2  \\\n",
       "0    1      First Baptist Church of Waldo         14370 Kennard St   \n",
       "1    2                 LaCrosse Town Hall          20613 N. SR 121   \n",
       "2    3    Legacy Park Multipurpose Center           15400 Peggy Rd   \n",
       "3    4   Newberry United Methodist Church        24845 Newberry Rd   \n",
       "4    5              First Lutheran Church          1801 NW 5th Ave   \n",
       "..  ..                                ...                      ...   \n",
       "59  60  Fellowship Church of High Springs  16916 NW US Highway 441   \n",
       "60  61          Millhopper Branch Library          3145 NW 43rd st   \n",
       "61  62       North Central Baptist Church         8001 NW 23rd Ave   \n",
       "62  63             CSI Academy of Florida      12787 NW US HWY 441   \n",
       "63  99                 Pollworker Standby            515 N Main St   \n",
       "\n",
       "                              3  \n",
       "0          Waldo, FL 32694-0216  \n",
       "1       Lacrosse, FL 32658-0000  \n",
       "2             Alachua, FL 32615  \n",
       "3       Newberry, FL 32669-0000  \n",
       "4    Gainesville, FL 32603-1624  \n",
       "..                          ...  \n",
       "59  High Springs, FL 32643-8103  \n",
       "60        Gainesville, FL 32606  \n",
       "61   Gainesville, FL 32606-6236  \n",
       "62            Alachua, FL 32615  \n",
       "63        Gainesville, FL 32601  \n",
       "\n",
       "[64 rows x 4 columns]>"
      ]
     },
     "execution_count": 91,
     "metadata": {},
     "output_type": "execute_result"
    }
   ],
   "source": [
    "#loading all precints into one df\n",
    "#df = pandas.read_csv('Precincts/ALA_precincts.txt', sep = '\\t',header=None, usecols = [0, 1, 2, 3])\n",
    "for county in counties:\n",
    "    df.append(pandas.read_csv('Precincts/' + county + '_precincts.txt'))\n",
    "df.to_markdown"
   ]
  },
  {
   "cell_type": "code",
   "execution_count": 92,
   "metadata": {},
   "outputs": [
    {
     "data": {
      "application/vnd.jupyter.widget-view+json": {
       "model_id": "bf34770b9a004c8480b6c00b2e699bce",
       "version_major": 2,
       "version_minor": 0
      },
      "text/plain": [
       "Text(value='Hello World', description='String:', placeholder='Type something')"
      ]
     },
     "metadata": {},
     "output_type": "display_data"
    }
   ],
   "source": [
    "\n",
    "widgets.Text(\n",
    "    value='Hello World',\n",
    "    placeholder='Type something',\n",
    "    description='String:',\n",
    "    disabled=False\n",
    ")"
   ]
  },
  {
   "cell_type": "code",
   "execution_count": null,
   "metadata": {},
   "outputs": [],
   "source": []
  }
 ],
 "metadata": {
  "kernelspec": {
   "display_name": "Python 3",
   "language": "python",
   "name": "python3"
  },
  "language_info": {
   "codemirror_mode": {
    "name": "ipython",
    "version": 3
   },
   "file_extension": ".py",
   "mimetype": "text/x-python",
   "name": "python",
   "nbconvert_exporter": "python",
   "pygments_lexer": "ipython3",
   "version": "3.8.3"
  }
 },
 "nbformat": 4,
 "nbformat_minor": 4
}
